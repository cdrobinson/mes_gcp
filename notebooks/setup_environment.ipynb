{
 "cells": [
  {
   "cell_type": "markdown",
   "id": "7fbed37f",
   "metadata": {},
   "source": [
    "# Setup Environment\n",
    "\n",
    "Utility functions for listing audio files in a GCS bucket."
   ]
  },
  {
   "cell_type": "code",
   "execution_count": null,
   "id": "be45e050",
   "metadata": {},
   "outputs": [],
   "source": [
    "from core.gcp_client import get_storage_client\n",
    "from typing import List\n",
    "\n",
    "def list_gcs_audio_files(bucket_name: str, folder_path: str) -> List[str]:\n",
    "    \"\"\"\n",
    "    Lists all audio files (common extensions) in a specified GCS folder.\n",
    "    \"\"\"\n",
    "    storage_client = get_storage_client()\n",
    "    bucket = storage_client.bucket(bucket_name)\n",
    "    prefix = folder_path\n",
    "    if prefix and not prefix.endswith('/'):\n",
    "        prefix += '/'\n",
    "    if prefix == '/':\n",
    "        prefix = \"\"\n",
    "\n",
    "    blobs = bucket.list_blobs(prefix=prefix)\n",
    "    audio_files = []\n",
    "    audio_extensions = ('.wav', '.mp3', '.flac', '.ogg', '.aac', '.m4a', '.opus', '.raw', '.amr')\n",
    "\n",
    "    for blob in blobs:\n",
    "        if blob.name.endswith(audio_extensions) and not blob.name.endswith('/'):\n",
    "            audio_files.append(f\"gs://{bucket_name}/{blob.name}\")\n",
    "    return audio_files"
   ]
  }
 ],
 "metadata": {
  "language_info": {
   "name": "python"
  }
 },
 "nbformat": 4,
 "nbformat_minor": 5
}
