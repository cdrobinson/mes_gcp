{
 "cells": [
  {
   "cell_type": "markdown",
   "id": "8ef9d790",
   "metadata": {},
   "source": [
    "# Evaluate Summary Readability\n",
    "\n",
    "This notebook loads a document from Firestore, extracts the summary, and evaluates its readability using the MES framework."
   ]
  },
  {
   "cell_type": "code",
   "execution_count": null,
   "id": "bb1e25e4",
   "metadata": {},
   "outputs": [],
   "source": [
    "import sys\n",
    "import os\n",
    "import logging\n",
    "import pandas as pd\n",
    "\n",
    "# Add src directory to path\n",
    "sys.path.append('../src')\n",
    "\n",
    "from orchestrator.experiment_runner import ExperimentRunner\n",
    "from clients.firestore_client import FirestoreClient\n",
    "\n",
    "# Configure logging\n",
    "logging.basicConfig(\n",
    "    level=logging.INFO,\n",
    "    format='%(asctime)s - %(name)s - %(levelname)s - %(message)s'\n",
    ")"
   ]
  },
  {
   "cell_type": "markdown",
   "id": "5069f00f",
   "metadata": {},
   "source": [
    "## Load Data from Firestore"
   ]
  },
  {
   "cell_type": "code",
   "execution_count": null,
   "id": "9c7bfd61",
   "metadata": {},
   "outputs": [],
   "source": [
    "# Configuration\n",
    "PROJECT_ID = \"gcp-project-id\"  # Replace with your GCP project ID\n",
    "COLLECTION_ID = \"summaries\"\n",
    "DOCUMENT_ID = \"004bd5df-fbb2-4c5a-8997-c317e18907f4\"\n",
    "VERSION_ID = \"1751461391\"\n",
    "\n",
    "# Initialize Firestore client\n",
    "firestore_client = FirestoreClient(project_id=PROJECT_ID)\n",
    "\n",
    "# Load the document\n",
    "try:\n",
    "    document = firestore_client.get_document(f\"{COLLECTION_ID}/{DOCUMENT_ID}/versions\", VERSION_ID)\n",
    "    summary_text = document.get(\"summary\", {}).get(\"body\")\n",
    "    print(\"Successfully loaded summary.\")\n",
    "    print(\"---\")\n",
    "    print(summary_text)\n",
    "    print(\"---\")\n",
    "except FileNotFoundError as e:\n",
    "    print(e)\n",
    "    summary_text = None"
   ]
  },
  {
   "cell_type": "markdown",
   "id": "d73b99ee",
   "metadata": {},
   "source": [
    "## Evaluate Readability"
   ]
  },
  {
   "cell_type": "code",
   "execution_count": null,
   "id": "e8f223af",
   "metadata": {},
   "outputs": [],
   "source": [
    "if summary_text:\n",
    "    # Initialise the experiment runner\n",
    "    config_path = '../config/readability_experiment.yaml'\n",
    "    runner = ExperimentRunner(config_path)\n",
    "\n",
    "    # Prepare the response data\n",
    "    response_data = {\n",
    "        \"response\": summary_text,\n",
    "        \"model_id\": \"firestore-document\" \n",
    "    }\n",
    "\n",
    "    # Evaluate the response\n",
    "    results_df = runner.evaluate_response(\"readability_check\", response_data)\n",
    "\n",
    "    # Display results\n",
    "    print(\"Readability Scores:\")\n",
    "    display(results_df[['experiment_name', 'readability_flesch_reading_ease', 'readability_flesch_kincaid_grade', 'readability_gunning_fog']].head())\n",
    "else:\n",
    "    print(\"Summary text not available, skipping evaluation.\")"
   ]
  }
 ],
 "metadata": {
  "language_info": {
   "name": "python"
  }
 },
 "nbformat": 4,
 "nbformat_minor": 5
}
